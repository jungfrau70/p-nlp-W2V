{
 "cells": [
  {
   "cell_type": "code",
   "execution_count": 1,
   "metadata": {},
   "outputs": [],
   "source": [
    "import itertools\n",
    "import json\n",
    "import matplotlib.pyplot as plt\n",
    "%matplotlib inline\n",
    "import networkx as nx\n",
    "import numpy as np\n",
    "import pandas as pd\n",
    "import random \n",
    "import re\n",
    "import string\n",
    "import warnings\n",
    "warnings.simplefilter(\"ignore\")\n",
    "\n",
    "from collections import Counter\n",
    "import gensim\n",
    "from gensim import corpora\n",
    "from gensim.models.word2vec import Word2Vec\n",
    "from gensim.models import Phrases\n",
    "from gensim.models.phrases import Phraser\n",
    "from gensim.models import CoherenceModel\n",
    "\n",
    "from konlpy.utils import pprint\n",
    "from konlpy.tag import Hannanum\n",
    "hannanum = Hannanum()\n",
    "from konlpy.tag import Okt\n",
    "okt = Okt()\n",
    "from konlpy.tag import Kkma\n",
    "kkma = Kkma()\n",
    "\n",
    "\n",
    "from pandas import read_excel\n",
    "from sklearn.feature_extraction.text import CountVectorizer\n",
    "from tqdm import tqdm\n",
    "from tqdm import trange\n",
    "from wordcloud import WordCloud\n",
    "\n",
    "from msba import posts as p\n",
    "from msba import stopwords as stopwords\n",
    "\n",
    "##########################################################\n",
    "\n",
    "def interested_words():\n",
    "    # 핵심단어 읽어 오기\n",
    "    my_sheet = '소비키워드'\n",
    "    keywords_filename = 'deskresearch_.xlsx'\n",
    "    df = read_excel(keywords_filename, sheet_name = my_sheet, header=1) # index_col='번호'\n",
    "    keywords = df['핵심단어']\n",
    "    subkeywords = df['대체어']\n",
    "    interested_words = df['키워드']\n",
    "    return keywords, subkeywords, interested_words\n",
    "\n",
    "def oneDArray(x):\n",
    "    return list(itertools.chain(*x))\n",
    "\n",
    "def preprocessing(text):\n",
    "    # 개행문자 제거\n",
    "    text = re.sub('\\\\\\\\n', ' ', text)\n",
    "#     text = re.sub('[A-z]', '', text)\n",
    "#     text = re.sub('[0-9]', '', text)\n",
    "    text = re.sub('[\\'\\\"]', '', text)\n",
    "    text = re.sub('[\\'\\n\"]', '', text)\n",
    "    res = ''.join([i for i in text if not i.isdigit()]) \n",
    "    return text\n",
    "\n",
    "def preprocessing_2(rows):\n",
    "    pattern = re.compile(r\"[.,?!★~]\")\n",
    "    sentences = []\n",
    "    for row in rows:\n",
    "        sentences = sentences + pattern.split(row.replace(\"\\xa0\", \"\").replace(\"\\t\",\"\").strip())\n",
    "        sentences = list(set(sentences))        \n",
    "    return sentences\n",
    "\n",
    "def convert_list_to_string(org_list, seperator=' '):\n",
    "    \"\"\" Convert list to string, by joining all item in list with given separator.\n",
    "        Returns the concatenated string \"\"\"\n",
    "    return seperator.join(org_list)\n",
    "\n",
    "# 실전 : 말뭉치 생성 및 전처리\n",
    "def preprocessing_3(sentences):\n",
    "    # Convert list of strings to string\n",
    "#     full_str = convert_list_to_string(sentences[1])\n",
    "#     # print(full_str)\n",
    "\n",
    "    pattern = re.compile(r\".*(광고정보).*\")\n",
    "\n",
    "    corpus = []\n",
    "    for sentence in sentences:\n",
    "        if len(sentence):\n",
    "            sentence = sentence.strip().split(\" \")\n",
    "            sentence = convert_list_to_string(sentence).replace(\"  \", \" \").strip()\n",
    "            if pattern.match(sentence):\n",
    "                continue\n",
    "            else:\n",
    "                corpus.append(sentence)\n",
    "    return corpus\n",
    "\n",
    "def preprocessing_4(docs):\n",
    "    # docs = [\n",
    "    #         w for w in hannanum.nouns(\" \".join(cell)) for cell in cells\n",
    "    #         if ((not w[0].isnumeric()) and (w[0] not in string.punctuation))\n",
    "    # ]\n",
    "    vect = CountVectorizer(stop_words=stopwords.stopwords_kr, min_df=5, max_df=200).fit(docs)\n",
    "    count = vect.transform(docs).toarray().sum(axis=0)\n",
    "    idx = np.argsort(-count)\n",
    "    count = count[idx]\n",
    "    feature_name = np.array(vect.get_feature_names())[idx]\n",
    "    # plt.bar(range(len(count)), count)\n",
    "    # plt.show()\n",
    "\n",
    "    tf_list = list(zip(feature_name, count))[:100]\n",
    "\n",
    "    tf_df = pd.DataFrame(tf_list,columns=['단어', '빈도'])\n",
    "    return tf_df\n",
    "\n",
    "def remove_stopwords_from_list(lst):\n",
    "    result = []\n",
    "    for w in lst:\n",
    "        if ((len(w) > 1) and (not w.isdigit())):\n",
    "            if w not in stopwords.stopwords_kr: \n",
    "                result.append(w)\n",
    "    return result\n",
    "\n",
    "def remove_stopwords(line):\n",
    "    result = \"\"\n",
    "    for w in line.split(\" \"):\n",
    "        if ((len(w) > 1) and (not w.isdigit())):\n",
    "            if w not in stopwords.stopwords_kr: \n",
    "                result = result + w + \" \"\n",
    "    return result.strip()\n",
    "\n",
    "def getTopics(model):\n",
    "    topics = []\n",
    "    for topic in model.print_topics(num_words=500):\n",
    "        i=1\n",
    "        model_words=[]\n",
    "        topic_words=str(topic).split('\"')\n",
    "        for words in topic_words:\n",
    "            if i%2==0:\n",
    "                model_words.append(words)\n",
    "            i+=1\n",
    "        topics.append(model_words)\n",
    "    return topics\n",
    "    \n",
    "def save_to_csv(output, keyword, type, tf_df):\n",
    "    # save to csv    \n",
    "    filename = \"./output/\" + output + \"_\" + type + \"_\" + keyword.replace(\" \",\"\") + \".csv\"   \n",
    "    # filename_list.append(filename)\n",
    "    tf_df.to_csv(filename, date_format='%Y%m%d', encoding='utf-8-sig')"
   ]
  },
  {
   "cell_type": "code",
   "execution_count": 2,
   "metadata": {},
   "outputs": [
    {
     "name": "stderr",
     "output_type": "stream",
     "text": [
      "\r",
      "0it [00:00, ?it/s]"
     ]
    },
    {
     "name": "stdout",
     "output_type": "stream",
     "text": [
      "n= 2 \n",
      "Coherence Score:  0.20262752272469609\n",
      "n= 3 \n",
      "Coherence Score:  0.2741304707305362\n",
      "n= 4 \n",
      "Coherence Score:  0.2552944279900016\n",
      "n= 5 \n",
      "Coherence Score:  0.2821508944066429\n",
      "n= 6 \n",
      "Coherence Score:  0.36027996572187754\n",
      "n= 7 \n",
      "Coherence Score:  0.33498464273357137\n",
      "n= 8 \n",
      "Coherence Score:  0.3647415711027213\n",
      "n= 9 \n",
      "Coherence Score:  0.36067892144201674\n"
     ]
    },
    {
     "name": "stderr",
     "output_type": "stream",
     "text": [
      "\r",
      "1it [03:29, 209.62s/it]"
     ]
    },
    {
     "name": "stdout",
     "output_type": "stream",
     "text": [
      "n= 2 \n",
      "Coherence Score:  0.24939763701780301\n",
      "n= 3 \n",
      "Coherence Score:  0.2758154228352982\n",
      "n= 4 \n",
      "Coherence Score:  0.3469035239513858\n",
      "n= 5 \n",
      "Coherence Score:  0.32187985560715665\n",
      "n= 6 \n",
      "Coherence Score:  0.3437432803644925\n",
      "n= 7 \n",
      "Coherence Score:  0.359767844119183\n",
      "n= 8 \n",
      "Coherence Score:  0.36990209336398794\n",
      "n= 9 \n",
      "Coherence Score:  0.3531898126232298\n"
     ]
    },
    {
     "name": "stderr",
     "output_type": "stream",
     "text": [
      "\r",
      "2it [07:48, 224.25s/it]"
     ]
    },
    {
     "name": "stdout",
     "output_type": "stream",
     "text": [
      "n= 2 \n",
      "Coherence Score:  0.38443745515662997\n",
      "n= 3 \n",
      "Coherence Score:  0.38742707997414705\n",
      "n= 4 \n",
      "Coherence Score:  0.40934330464947416\n",
      "n= 5 \n",
      "Coherence Score:  0.46128128054871836\n",
      "n= 6 \n",
      "Coherence Score:  0.49026431600456855\n",
      "n= 7 \n",
      "Coherence Score:  0.5166791624632683\n",
      "n= 8 \n",
      "Coherence Score:  0.4973454687145871\n",
      "n= 9 \n",
      "Coherence Score:  0.49267582515775693\n"
     ]
    },
    {
     "name": "stderr",
     "output_type": "stream",
     "text": [
      "\r",
      "3it [09:33, 188.72s/it]"
     ]
    },
    {
     "name": "stdout",
     "output_type": "stream",
     "text": [
      "n= 2 \n",
      "Coherence Score:  0.5237551253483687\n",
      "n= 3 \n",
      "Coherence Score:  0.5329737128679538\n",
      "n= 4 \n",
      "Coherence Score:  0.5535156268414159\n",
      "n= 5 \n",
      "Coherence Score:  0.5529020599732328\n",
      "n= 6 \n",
      "Coherence Score:  0.5142288823312936\n",
      "n= 7 \n",
      "Coherence Score:  0.5339687979964821\n",
      "n= 8 \n",
      "Coherence Score:  0.5735300248869064\n",
      "n= 9 \n",
      "Coherence Score:  0.5254006908501085\n"
     ]
    },
    {
     "name": "stderr",
     "output_type": "stream",
     "text": [
      "\r",
      "4it [12:46, 189.82s/it]"
     ]
    },
    {
     "name": "stdout",
     "output_type": "stream",
     "text": [
      "n= 2 \n",
      "Coherence Score:  0.21823706213449012\n",
      "n= 3 \n",
      "Coherence Score:  0.2550024830974326\n",
      "n= 4 \n",
      "Coherence Score:  0.2564198536521847\n",
      "n= 5 \n",
      "Coherence Score:  0.31911271859541473\n",
      "n= 6 \n",
      "Coherence Score:  0.28125866911606817\n",
      "n= 7 \n",
      "Coherence Score:  0.31910555404489155\n",
      "n= 8 \n",
      "Coherence Score:  0.30785078485740436\n",
      "n= 9 \n",
      "Coherence Score:  0.32386145682032025\n"
     ]
    },
    {
     "name": "stderr",
     "output_type": "stream",
     "text": [
      "\r",
      "5it [16:33, 201.12s/it]"
     ]
    },
    {
     "name": "stdout",
     "output_type": "stream",
     "text": [
      "n= 2 \n",
      "Coherence Score:  0.29833099802045937\n",
      "n= 3 \n",
      "Coherence Score:  0.270125390088584\n",
      "n= 4 \n",
      "Coherence Score:  0.25996167914968243\n",
      "n= 5 \n",
      "Coherence Score:  0.3408971796618545\n",
      "n= 6 \n",
      "Coherence Score:  0.3807359461002125\n",
      "n= 7 \n",
      "Coherence Score:  0.3664258326977506\n",
      "n= 8 \n",
      "Coherence Score:  0.3681526128712346\n",
      "n= 9 \n",
      "Coherence Score:  0.37333663328947014\n"
     ]
    },
    {
     "name": "stderr",
     "output_type": "stream",
     "text": [
      "\r",
      "6it [19:17, 190.01s/it]"
     ]
    },
    {
     "name": "stdout",
     "output_type": "stream",
     "text": [
      "n= 2 \n",
      "Coherence Score:  0.22154037378047026\n",
      "n= 3 \n",
      "Coherence Score:  0.24296141403515123\n",
      "n= 4 \n",
      "Coherence Score:  0.23606225423263505\n",
      "n= 5 \n",
      "Coherence Score:  0.32392067901428157\n",
      "n= 6 \n",
      "Coherence Score:  0.28943650738687127\n",
      "n= 7 \n",
      "Coherence Score:  0.3363209045455869\n",
      "n= 8 \n",
      "Coherence Score:  0.3050558178455971\n",
      "n= 9 \n",
      "Coherence Score:  0.29200164059242745\n"
     ]
    },
    {
     "name": "stderr",
     "output_type": "stream",
     "text": [
      "\r",
      "7it [23:16, 204.77s/it]"
     ]
    },
    {
     "name": "stdout",
     "output_type": "stream",
     "text": [
      "n= 2 \n",
      "Coherence Score:  0.18862780318153655\n",
      "n= 3 \n",
      "Coherence Score:  0.259445677720406\n",
      "n= 4 \n",
      "Coherence Score:  0.3230715972276659\n",
      "n= 5 \n",
      "Coherence Score:  0.33658071918625904\n",
      "n= 6 \n",
      "Coherence Score:  0.31381899779011563\n",
      "n= 7 \n",
      "Coherence Score:  0.3356421975919484\n",
      "n= 8 \n",
      "Coherence Score:  0.3251975021946626\n",
      "n= 9 \n",
      "Coherence Score:  0.3710198912668125\n"
     ]
    },
    {
     "name": "stderr",
     "output_type": "stream",
     "text": [
      "\r",
      "8it [27:44, 223.56s/it]"
     ]
    },
    {
     "name": "stdout",
     "output_type": "stream",
     "text": [
      "n= 2 \n",
      "Coherence Score:  0.30456602584963466\n",
      "n= 3 \n",
      "Coherence Score:  0.2706761944477268\n",
      "n= 4 \n",
      "Coherence Score:  0.3274719429363485\n",
      "n= 5 \n",
      "Coherence Score:  0.3478009452901762\n",
      "n= 6 \n",
      "Coherence Score:  0.33637148132863154\n",
      "n= 7 \n",
      "Coherence Score:  0.30915320678264974\n",
      "n= 8 \n",
      "Coherence Score:  0.38929482328593973\n",
      "n= 9 \n",
      "Coherence Score:  0.41212330597490837\n"
     ]
    },
    {
     "name": "stderr",
     "output_type": "stream",
     "text": [
      "\r",
      "9it [30:45, 210.74s/it]"
     ]
    },
    {
     "name": "stdout",
     "output_type": "stream",
     "text": [
      "n= 2 \n",
      "Coherence Score:  0.3068641593357041\n",
      "n= 3 \n",
      "Coherence Score:  0.29289621282985256\n",
      "n= 4 \n",
      "Coherence Score:  0.31876874277636164\n",
      "n= 5 \n",
      "Coherence Score:  0.3381240191304645\n",
      "n= 6 \n",
      "Coherence Score:  0.3249701348449902\n",
      "n= 7 \n",
      "Coherence Score:  0.39611967020308125\n",
      "n= 8 \n",
      "Coherence Score:  0.4101016292952388\n",
      "n= 9 \n",
      "Coherence Score:  0.43156119973532336\n"
     ]
    },
    {
     "name": "stderr",
     "output_type": "stream",
     "text": [
      "\r",
      "10it [32:25, 177.74s/it]"
     ]
    },
    {
     "name": "stdout",
     "output_type": "stream",
     "text": [
      "n= 2 \n",
      "Coherence Score:  0.2433994961949499\n",
      "n= 3 \n",
      "Coherence Score:  0.5027028871137138\n",
      "n= 4 \n",
      "Coherence Score:  0.48787550639664307\n",
      "n= 5 \n",
      "Coherence Score:  0.4871290913920636\n",
      "n= 6 \n",
      "Coherence Score:  0.4143020245580122\n",
      "n= 7 \n",
      "Coherence Score:  0.44355986646482787\n",
      "n= 8 \n",
      "Coherence Score:  0.41337139091632086\n",
      "n= 9 \n",
      "Coherence Score:  0.41076008567072475\n"
     ]
    },
    {
     "name": "stderr",
     "output_type": "stream",
     "text": [
      "\r",
      "11it [36:09, 191.59s/it]"
     ]
    },
    {
     "name": "stdout",
     "output_type": "stream",
     "text": [
      "n= 2 \n",
      "Coherence Score:  0.2511841142591297\n",
      "n= 3 \n",
      "Coherence Score:  0.2188612389925155\n",
      "n= 4 \n",
      "Coherence Score:  0.28938239922604536\n",
      "n= 5 \n",
      "Coherence Score:  0.27745648317360594\n",
      "n= 6 \n",
      "Coherence Score:  0.28485367042925946\n",
      "n= 7 \n",
      "Coherence Score:  0.2976544495627419\n",
      "n= 8 \n",
      "Coherence Score:  0.32104564945402014\n",
      "n= 9 \n",
      "Coherence Score:  0.3531144427549973\n"
     ]
    },
    {
     "name": "stderr",
     "output_type": "stream",
     "text": [
      "\r",
      "12it [39:14, 189.44s/it]"
     ]
    },
    {
     "name": "stdout",
     "output_type": "stream",
     "text": [
      "n= 2 \n",
      "Coherence Score:  0.5419429695493755\n",
      "n= 3 \n",
      "Coherence Score:  0.5897565718619543\n",
      "n= 4 \n",
      "Coherence Score:  0.5179644419073028\n",
      "n= 5 \n",
      "Coherence Score:  0.5674068527044961\n",
      "n= 6 \n",
      "Coherence Score:  0.585213740405899\n",
      "n= 7 \n",
      "Coherence Score:  0.5832408017506162\n",
      "n= 8 \n",
      "Coherence Score:  0.5752226262437918\n",
      "n= 9 \n",
      "Coherence Score:  0.5903571300584658\n"
     ]
    },
    {
     "name": "stderr",
     "output_type": "stream",
     "text": [
      "\r",
      "13it [40:23, 153.36s/it]"
     ]
    },
    {
     "name": "stdout",
     "output_type": "stream",
     "text": [
      "n= 2 \n",
      "Coherence Score:  0.4599596396678158\n",
      "n= 3 \n",
      "Coherence Score:  0.44712197198279907\n",
      "n= 4 \n",
      "Coherence Score:  0.4770355436261795\n",
      "n= 5 \n",
      "Coherence Score:  0.46958655473974265\n",
      "n= 6 \n",
      "Coherence Score:  0.5275487301707446\n",
      "n= 7 \n",
      "Coherence Score:  0.45153464360010404\n",
      "n= 8 \n",
      "Coherence Score:  0.5051227214725906\n",
      "n= 9 \n",
      "Coherence Score:  0.5054005353248896\n"
     ]
    },
    {
     "name": "stderr",
     "output_type": "stream",
     "text": [
      "\r",
      "14it [40:59, 118.28s/it]"
     ]
    },
    {
     "name": "stdout",
     "output_type": "stream",
     "text": [
      "n= 2 \n",
      "Coherence Score:  0.3656810603384029\n",
      "n= 3 \n",
      "Coherence Score:  0.33683782178623356\n",
      "n= 4 \n",
      "Coherence Score:  0.3443042765601393\n",
      "n= 5 \n",
      "Coherence Score:  0.30134504366587217\n",
      "n= 6 \n",
      "Coherence Score:  0.3476466164691792\n",
      "n= 7 \n",
      "Coherence Score:  0.3844674043959778\n",
      "n= 8 \n",
      "Coherence Score:  0.39299991727180744\n",
      "n= 9 \n",
      "Coherence Score:  0.41981152090331275\n"
     ]
    },
    {
     "name": "stderr",
     "output_type": "stream",
     "text": [
      "\r",
      "15it [43:00, 118.96s/it]"
     ]
    },
    {
     "name": "stdout",
     "output_type": "stream",
     "text": [
      "n= 2 \n",
      "Coherence Score:  0.25003802706622413\n",
      "n= 3 \n",
      "Coherence Score:  0.23691505511363453\n",
      "n= 4 \n",
      "Coherence Score:  0.3391334889088763\n",
      "n= 5 \n",
      "Coherence Score:  0.2742929802460415\n",
      "n= 6 \n",
      "Coherence Score:  0.3409975501568155\n",
      "n= 7 \n",
      "Coherence Score:  0.3681681840545919\n",
      "n= 8 \n",
      "Coherence Score:  0.3964471383875641\n",
      "n= 9 \n",
      "Coherence Score:  0.3592296186259192\n"
     ]
    },
    {
     "name": "stderr",
     "output_type": "stream",
     "text": [
      "\r",
      "16it [45:34, 129.37s/it]"
     ]
    },
    {
     "name": "stdout",
     "output_type": "stream",
     "text": [
      "n= 2 \n",
      "Coherence Score:  0.3700528452780695\n",
      "n= 3 \n",
      "Coherence Score:  0.29224164343362663\n",
      "n= 4 \n",
      "Coherence Score:  0.4104553541555862\n",
      "n= 5 \n",
      "Coherence Score:  0.36055483217196516\n",
      "n= 6 \n",
      "Coherence Score:  0.3746827117845806\n",
      "n= 7 \n",
      "Coherence Score:  0.4179898187275068\n",
      "n= 8 \n",
      "Coherence Score:  0.40661698104089883\n",
      "n= 9 \n",
      "Coherence Score:  0.4718616859930538\n"
     ]
    },
    {
     "name": "stderr",
     "output_type": "stream",
     "text": [
      "\r",
      "17it [47:15, 121.07s/it]"
     ]
    },
    {
     "name": "stdout",
     "output_type": "stream",
     "text": [
      "n= 2 \n",
      "Coherence Score:  0.5133959337502854\n",
      "n= 3 \n",
      "Coherence Score:  0.46859388724676804\n",
      "n= 4 \n",
      "Coherence Score:  0.47172751772968186\n",
      "n= 5 \n",
      "Coherence Score:  0.47977746963449663\n",
      "n= 6 \n",
      "Coherence Score:  0.4426697145931588\n",
      "n= 7 \n",
      "Coherence Score:  0.46944594620419344\n",
      "n= 8 \n",
      "Coherence Score:  0.40195396317727194\n",
      "n= 9 \n",
      "Coherence Score:  0.460492012047315\n"
     ]
    },
    {
     "name": "stderr",
     "output_type": "stream",
     "text": [
      "\r",
      "18it [51:03, 153.14s/it]"
     ]
    },
    {
     "name": "stdout",
     "output_type": "stream",
     "text": [
      "n= 2 \n",
      "Coherence Score:  0.5898550140601644\n",
      "n= 3 \n",
      "Coherence Score:  0.5514353432689223\n",
      "n= 4 \n",
      "Coherence Score:  0.5955888398618459\n",
      "n= 5 \n",
      "Coherence Score:  0.6425041439193897\n",
      "n= 6 \n",
      "Coherence Score:  0.6523626552651496\n",
      "n= 7 \n",
      "Coherence Score:  0.5857957506912462\n",
      "n= 8 \n",
      "Coherence Score:  0.6281072963066132\n",
      "n= 9 \n",
      "Coherence Score:  0.6199087564894231\n"
     ]
    },
    {
     "name": "stderr",
     "output_type": "stream",
     "text": [
      "\r",
      "19it [51:28, 114.69s/it]"
     ]
    },
    {
     "name": "stdout",
     "output_type": "stream",
     "text": [
      "n= 2 \n",
      "Coherence Score:  0.24789563404243298\n",
      "n= 3 \n",
      "Coherence Score:  0.26047129333083935\n",
      "n= 4 \n",
      "Coherence Score:  0.2891672383425086\n",
      "n= 5 \n",
      "Coherence Score:  0.3025412652261057\n",
      "n= 6 \n",
      "Coherence Score:  0.33582492068810366\n",
      "n= 7 \n",
      "Coherence Score:  0.33117598799059805\n",
      "n= 8 \n",
      "Coherence Score:  0.3585441072498925\n",
      "n= 9 \n",
      "Coherence Score:  0.3910119057445855\n"
     ]
    },
    {
     "name": "stderr",
     "output_type": "stream",
     "text": [
      "\r",
      "20it [54:45, 139.27s/it]"
     ]
    },
    {
     "name": "stdout",
     "output_type": "stream",
     "text": [
      "n= 2 \n",
      "Coherence Score:  0.2976943295243519\n",
      "n= 3 \n",
      "Coherence Score:  0.3128150697882924\n",
      "n= 4 \n",
      "Coherence Score:  0.3140473188802011\n",
      "n= 5 \n",
      "Coherence Score:  0.3881131587506922\n",
      "n= 6 \n",
      "Coherence Score:  0.3458576902239971\n",
      "n= 7 \n",
      "Coherence Score:  0.3767321085856087\n",
      "n= 8 \n",
      "Coherence Score:  0.3359520452710625\n",
      "n= 9 \n",
      "Coherence Score:  0.376681913096859\n"
     ]
    },
    {
     "name": "stderr",
     "output_type": "stream",
     "text": [
      "\r",
      "21it [58:22, 162.51s/it]"
     ]
    },
    {
     "name": "stdout",
     "output_type": "stream",
     "text": [
      "n= 2 \n",
      "Coherence Score:  0.21645229735592078\n",
      "n= 3 \n",
      "Coherence Score:  0.21356118340982275\n",
      "n= 4 \n",
      "Coherence Score:  0.24363509679421458\n",
      "n= 5 \n",
      "Coherence Score:  0.28554902840763774\n",
      "n= 6 \n",
      "Coherence Score:  0.2526008081404976\n",
      "n= 7 \n",
      "Coherence Score:  0.31353939970859634\n",
      "n= 8 \n",
      "Coherence Score:  0.3244629376185309\n",
      "n= 9 \n",
      "Coherence Score:  0.3391450711965034\n"
     ]
    },
    {
     "name": "stderr",
     "output_type": "stream",
     "text": [
      "\r",
      "22it [1:03:45, 210.76s/it]"
     ]
    },
    {
     "name": "stdout",
     "output_type": "stream",
     "text": [
      "n= 2 \n",
      "Coherence Score:  0.16157569456930654\n",
      "n= 3 \n",
      "Coherence Score:  0.2432641402329702\n",
      "n= 4 \n",
      "Coherence Score:  0.2698854752728647\n",
      "n= 5 \n",
      "Coherence Score:  0.2534748949764831\n",
      "n= 6 \n",
      "Coherence Score:  0.2884909840670239\n",
      "n= 7 \n",
      "Coherence Score:  0.2757187767941982\n",
      "n= 8 \n",
      "Coherence Score:  0.29522490216308944\n",
      "n= 9 \n",
      "Coherence Score:  0.31283537914443404\n"
     ]
    },
    {
     "name": "stderr",
     "output_type": "stream",
     "text": [
      "\r",
      "23it [1:08:26, 231.91s/it]"
     ]
    },
    {
     "name": "stdout",
     "output_type": "stream",
     "text": [
      "n= 2 \n",
      "Coherence Score:  0.2639223318191578\n",
      "n= 3 \n",
      "Coherence Score:  0.22551884042420212\n",
      "n= 4 \n",
      "Coherence Score:  0.3099685307407889\n",
      "n= 5 \n",
      "Coherence Score:  0.29835214719370295\n",
      "n= 6 \n",
      "Coherence Score:  0.3124553442505836\n",
      "n= 7 \n",
      "Coherence Score:  0.3610646631730101\n",
      "n= 8 \n",
      "Coherence Score:  0.3645264373984722\n",
      "n= 9 \n",
      "Coherence Score:  0.34793945717882113\n"
     ]
    },
    {
     "name": "stderr",
     "output_type": "stream",
     "text": [
      "\r",
      "24it [1:11:29, 217.13s/it]"
     ]
    },
    {
     "name": "stdout",
     "output_type": "stream",
     "text": [
      "n= 2 \n",
      "Coherence Score:  0.5141754644561297\n",
      "n= 3 \n",
      "Coherence Score:  0.5328557084978943\n",
      "n= 4 \n",
      "Coherence Score:  0.5363533098327302\n",
      "n= 5 \n",
      "Coherence Score:  0.5425376666926555\n",
      "n= 6 \n",
      "Coherence Score:  0.5613321861461794\n",
      "n= 7 \n",
      "Coherence Score:  0.5609946963182186\n",
      "n= 8 \n",
      "Coherence Score:  0.5513488209388128\n",
      "n= 9 \n",
      "Coherence Score:  0.5370304415605498\n"
     ]
    },
    {
     "name": "stderr",
     "output_type": "stream",
     "text": [
      "\r",
      "25it [1:11:45, 156.72s/it]"
     ]
    },
    {
     "name": "stdout",
     "output_type": "stream",
     "text": [
      "n= 2 \n",
      "Coherence Score:  0.23036058258151748\n",
      "n= 3 \n",
      "Coherence Score:  0.2656385094267446\n",
      "n= 4 \n",
      "Coherence Score:  0.3202416193518016\n",
      "n= 5 \n",
      "Coherence Score:  0.2899773530793284\n",
      "n= 6 \n",
      "Coherence Score:  0.364883829095459\n",
      "n= 7 \n",
      "Coherence Score:  0.36174075738576744\n",
      "n= 8 \n",
      "Coherence Score:  0.33639847426513025\n",
      "n= 9 \n",
      "Coherence Score:  0.3750613632600855\n"
     ]
    },
    {
     "name": "stderr",
     "output_type": "stream",
     "text": [
      "\r",
      "26it [1:15:38, 179.58s/it]"
     ]
    },
    {
     "name": "stdout",
     "output_type": "stream",
     "text": [
      "n= 2 \n",
      "Coherence Score:  0.24183749514604647\n",
      "n= 3 \n",
      "Coherence Score:  0.2672742879407093\n",
      "n= 4 \n",
      "Coherence Score:  0.27300451724441166\n",
      "n= 5 \n",
      "Coherence Score:  0.34217817212423746\n",
      "n= 6 \n",
      "Coherence Score:  0.31076316466783993\n",
      "n= 7 \n",
      "Coherence Score:  0.3760739809628792\n",
      "n= 8 \n",
      "Coherence Score:  0.3808609553911426\n",
      "n= 9 \n",
      "Coherence Score:  0.3714714991069168\n"
     ]
    },
    {
     "name": "stderr",
     "output_type": "stream",
     "text": [
      "\r",
      "27it [1:19:21, 192.67s/it]"
     ]
    },
    {
     "name": "stdout",
     "output_type": "stream",
     "text": [
      "n= 2 \n",
      "Coherence Score:  0.1299729042054353\n",
      "n= 3 \n",
      "Coherence Score:  0.2065251148831454\n",
      "n= 4 \n",
      "Coherence Score:  0.30309082658516134\n",
      "n= 5 \n",
      "Coherence Score:  0.23794345109217896\n",
      "n= 6 \n",
      "Coherence Score:  0.35058036887828975\n",
      "n= 7 \n",
      "Coherence Score:  0.3386753190053414\n",
      "n= 8 \n",
      "Coherence Score:  0.30090254751662315\n",
      "n= 9 \n",
      "Coherence Score:  0.34759684519399187\n"
     ]
    },
    {
     "name": "stderr",
     "output_type": "stream",
     "text": [
      "\r",
      "28it [1:23:46, 214.55s/it]"
     ]
    },
    {
     "name": "stdout",
     "output_type": "stream",
     "text": [
      "n= 2 \n",
      "Coherence Score:  0.45633358289352305\n",
      "n= 3 \n",
      "Coherence Score:  0.37438053247196895\n",
      "n= 4 \n",
      "Coherence Score:  0.3747817889391415\n",
      "n= 5 \n",
      "Coherence Score:  0.3410071126242637\n",
      "n= 6 \n",
      "Coherence Score:  0.38642235402357544\n",
      "n= 7 \n",
      "Coherence Score:  0.4237335577986979\n",
      "n= 8 \n",
      "Coherence Score:  0.4685788707502804\n",
      "n= 9 \n",
      "Coherence Score:  0.4119359309491387\n"
     ]
    },
    {
     "name": "stderr",
     "output_type": "stream",
     "text": [
      "\r",
      "29it [1:26:40, 202.16s/it]"
     ]
    },
    {
     "name": "stdout",
     "output_type": "stream",
     "text": [
      "n= 2 \n",
      "Coherence Score:  0.16795580794910647\n",
      "n= 3 \n",
      "Coherence Score:  0.21978192307657815\n",
      "n= 4 \n",
      "Coherence Score:  0.22579930057739928\n",
      "n= 5 \n",
      "Coherence Score:  0.28853396812478893\n",
      "n= 6 \n",
      "Coherence Score:  0.32744962870360955\n",
      "n= 7 \n",
      "Coherence Score:  0.32372661603087244\n",
      "n= 8 \n",
      "Coherence Score:  0.3348656001826963\n",
      "n= 9 \n",
      "Coherence Score:  0.346561397797793\n"
     ]
    },
    {
     "name": "stderr",
     "output_type": "stream",
     "text": [
      "\r",
      "30it [1:33:09, 258.18s/it]"
     ]
    },
    {
     "name": "stdout",
     "output_type": "stream",
     "text": [
      "n= 2 \n",
      "Coherence Score:  0.14887484796842107\n",
      "n= 3 \n",
      "Coherence Score:  0.22186946166012386\n",
      "n= 4 \n",
      "Coherence Score:  0.23402316019645597\n",
      "n= 5 \n",
      "Coherence Score:  0.27314962003075993\n",
      "n= 6 \n",
      "Coherence Score:  0.22596139886284325\n",
      "n= 7 \n",
      "Coherence Score:  0.3420926952559168\n",
      "n= 8 \n",
      "Coherence Score:  0.3245693148163553\n",
      "n= 9 \n",
      "Coherence Score:  0.3504586547780877\n"
     ]
    },
    {
     "name": "stderr",
     "output_type": "stream",
     "text": [
      "\r",
      "31it [1:37:34, 260.23s/it]"
     ]
    },
    {
     "name": "stdout",
     "output_type": "stream",
     "text": [
      "n= 2 \n",
      "Coherence Score:  0.4053732328743154\n",
      "n= 3 \n",
      "Coherence Score:  0.5315552821905913\n",
      "n= 4 \n",
      "Coherence Score:  0.5780883130687993\n",
      "n= 5 \n",
      "Coherence Score:  0.5722941069257977\n",
      "n= 6 \n",
      "Coherence Score:  0.5853669935932279\n",
      "n= 7 \n",
      "Coherence Score:  0.518233782165941\n",
      "n= 8 \n",
      "Coherence Score:  0.5466420039821189\n",
      "n= 9 \n",
      "Coherence Score:  0.531412484385526\n"
     ]
    },
    {
     "name": "stderr",
     "output_type": "stream",
     "text": [
      "\r",
      "32it [1:46:20, 340.20s/it]"
     ]
    },
    {
     "name": "stdout",
     "output_type": "stream",
     "text": [
      "n= 2 \n",
      "Coherence Score:  0.3621325917953382\n",
      "n= 3 \n",
      "Coherence Score:  0.3690720968574491\n",
      "n= 4 \n",
      "Coherence Score:  0.3738326337041711\n",
      "n= 5 \n",
      "Coherence Score:  0.3821756672572155\n",
      "n= 6 \n",
      "Coherence Score:  0.34973995180097955\n",
      "n= 7 \n",
      "Coherence Score:  0.41775330817013373\n",
      "n= 8 \n",
      "Coherence Score:  0.39238938519373573\n",
      "n= 9 \n",
      "Coherence Score:  0.40375176459247086\n"
     ]
    },
    {
     "name": "stderr",
     "output_type": "stream",
     "text": [
      "\r",
      "33it [1:48:44, 281.14s/it]"
     ]
    },
    {
     "name": "stdout",
     "output_type": "stream",
     "text": [
      "n= 2 \n",
      "Coherence Score:  0.3501215798430394\n",
      "n= 3 \n",
      "Coherence Score:  0.3401687515525084\n",
      "n= 4 \n",
      "Coherence Score:  0.35596149238851343\n",
      "n= 5 \n",
      "Coherence Score:  0.36094114819146617\n",
      "n= 6 \n",
      "Coherence Score:  0.43610938232423363\n",
      "n= 7 \n",
      "Coherence Score:  0.4014240086969943\n",
      "n= 8 \n",
      "Coherence Score:  0.4431008293380983\n",
      "n= 9 \n",
      "Coherence Score:  0.42489211086982503\n"
     ]
    },
    {
     "name": "stderr",
     "output_type": "stream",
     "text": [
      "\r",
      "34it [1:50:40, 231.67s/it]"
     ]
    },
    {
     "name": "stdout",
     "output_type": "stream",
     "text": [
      "n= 2 \n",
      "Coherence Score:  0.5048983047123573\n",
      "n= 3 \n",
      "Coherence Score:  0.46930606736208397\n",
      "n= 4 \n",
      "Coherence Score:  0.5489640233801534\n",
      "n= 5 \n",
      "Coherence Score:  0.5141907514985677\n",
      "n= 6 \n",
      "Coherence Score:  0.49512703303551603\n",
      "n= 7 \n",
      "Coherence Score:  0.4690759518093249\n",
      "n= 8 \n",
      "Coherence Score:  0.44987827997385715\n",
      "n= 9 \n",
      "Coherence Score:  0.4452292126954551\n"
     ]
    },
    {
     "name": "stderr",
     "output_type": "stream",
     "text": [
      "35it [1:52:48, 193.38s/it]\n"
     ]
    }
   ],
   "source": [
    "## 키워드/관심어 불러오기\n",
    "keywords, subkeywords, interested_words = interested_words()\n",
    "\n",
    "for keyword, subkeyword, interested_word in zip(keywords, subkeywords, interested_words):\n",
    "    subkeyword = subkeyword.replace(\" \", \"\").replace(\",\",\"|\")\n",
    "    interested_word = subkeyword + \"|\" + interested_word.replace(\" \", \"\").replace(\",\",\"|\")\n",
    "\n",
    "## 형태소 분석\n",
    "\n",
    "for keyword, subkeyword, interested_word in tqdm(zip(keywords, subkeywords, interested_words)):\n",
    "\n",
    "    #keyword = '1인 외식'\n",
    "    keyword = keyword.replace(\" \",\"\")\n",
    "    df = p.readall(keyword.replace(\" \",\"\"))\n",
    "    df = df[ (df['date'] >= '2019-07-01') & (df['date'] < '2020-07-01')]\n",
    "    df = df.drop_duplicates()\n",
    "    # print(df.shape)  \n",
    "    rows = df['title'].apply(preprocessing) + df['content'].apply(preprocessing)\n",
    "    rows_date = df['date']\n",
    "\n",
    "    sentences = preprocessing_2(rows)\n",
    "    # print(len(sentences), type(sentences))\n",
    "    sentences = preprocessing_3(sentences)\n",
    "    # print(len(corpus), type(corpus))\n",
    "\n",
    "    # 4. 각 문장별로 형태소 구분하기\n",
    "    sentences_tag = []\n",
    "    for sentence in sentences:\n",
    "        morph = okt.pos(sentence)\n",
    "        sentences_tag.append(morph)\n",
    "\n",
    "    # 5. 명사 혹은 형용사인 품사만 선별해 리스트에 담기\n",
    "    posts = []\n",
    "    for sentence1 in sentences_tag:\n",
    "        words = \"\"\n",
    "        for word, tag in sentence1:\n",
    "            if tag in ['Noun']:     # 명사만 추출, # 명사/형용사 추출은 ['Noun','Adjective']\n",
    "                words = words + word + \" \"\n",
    "    #6 불용어 제거\n",
    "        words = remove_stopwords(words)\n",
    "        posts.append(words)\n",
    "\n",
    "    # print(len(posts), type(posts))\n",
    "    # print(len(rows_date), type(rows))\n",
    "\n",
    "    #7 공백라인 및 NaN 제거\n",
    "    while(\"\" in posts) : \n",
    "        posts.remove(\"\") \n",
    "    while(\"NaN\" in posts) : \n",
    "        posts.remove(\"\") \n",
    "    # posts\n",
    "\n",
    "    ## 최빈어\n",
    "\n",
    "    tf_list = []\n",
    "    for sentence1 in posts:\n",
    "        sentence1.split()\n",
    "        tf_list.append(sentence1.split())\n",
    "\n",
    "    lst = oneDArray(tf_list)\n",
    "\n",
    "    # 6. 선별된 품사별 빈도수 계산 & 상위 빈도 10위 까지 출력\n",
    "    counts = Counter(lst)\n",
    "\n",
    "    toplist = counts.most_common(500)\n",
    "    # type(toplist)\n",
    "\n",
    "    tf_df = pd.DataFrame (toplist,columns=['단어', '빈도수'])\n",
    "    # tf_df\n",
    "    #save_to_csv(keyword, \"최빈어\", tf_df)\n",
    "    save_to_csv(\"TM\", keyword, \"최빈어\", tf_df)\n",
    "\n",
    "    ## 토픽 모델링\n",
    "\n",
    "    dataset = pd.DataFrame(posts, columns=['문장'])\n",
    "\n",
    "    # nan_value = float(\"NaN\")\n",
    "    # dataset.replace(\"\", nan_value, inplace=True)\n",
    "    # dataset.dropna(subset = [\"문장\"], inplace=True)\n",
    "    # dataset.reindex\n",
    "\n",
    "    tmp_corpus = dataset['문장'].map(lambda x: x.split('.'))\n",
    "\n",
    "    #tmp_corpus\n",
    "\n",
    "    # type(tmp_corpus)\n",
    "    # tmp_corpus[11]\n",
    "    # tmp_corpus[13]\n",
    "\n",
    "    # corpus [[w1,w2,w3..],[..]]\n",
    "    corpus = []\n",
    "    for i in range(len(tmp_corpus)):\n",
    "        for line in tmp_corpus[i]:\n",
    "            words = [x for x in line.split()]\n",
    "            corpus.append(words)\n",
    "    #   corpus\n",
    "\n",
    "    num_of_sentences = len(corpus)\n",
    "    num_of_words = 0\n",
    "    for line in corpus:\n",
    "        num_of_words += len(line)\n",
    "\n",
    "    #print('Num of sentences - %s'%(num_of_sentences))\n",
    "    #print('Num of words - %s'%(num_of_words))\n",
    "\n",
    "    ### Gensim\n",
    "\n",
    "    nouns = corpus\n",
    "    bigram = gensim.models.Phrases(nouns)\n",
    "    trigram = gensim.models.Phrases(bigram[nouns])\n",
    "    bigram_model = gensim.models.phrases.Phraser(bigram)\n",
    "    trigram_model = gensim.models.phrases.Phraser(trigram)\n",
    "    \n",
    "    bigram_document = [bigram_model[nouns] for nouns in nouns]\n",
    "    # bigram_document[1]\n",
    "    # bigram_document[3]\n",
    "\n",
    "    id2word = corpora.Dictionary(bigram_document)\n",
    "    corpus = [id2word.doc2bow(doc) for doc in bigram_document]\n",
    "    # corpus[0]\n",
    "\n",
    "    # corpus[7]  # 단어별 출현 출현 수\n",
    "\n",
    "    ### Topic Coherence 계산\n",
    "\n",
    "    # 토픽 모델링을 수행함에 있어서 적절한 토픽의 갯수를 찾는 것이 중요하다. \n",
    "    # 2부터 9까지 값을 늘려가면서 LDA 모델을 생성하여 각 모델의 coherence를 계산한다.\n",
    "    # 그리고, 적절한 토픽의 수는 토픽 갯수를 늘려가며 높은 coherence score 를 가지는 값으로 결정한다\n",
    "\n",
    "    coherence_score=[]\n",
    "    for i in range(2,10):\n",
    "        model = gensim.models.ldamodel.LdaModel(corpus=corpus, id2word=id2word, num_topics=i)\n",
    "        coherence_model = CoherenceModel(model, texts=bigram_document, dictionary=id2word, coherence='c_v')\n",
    "        coherence_lda = coherence_model.get_coherence()\n",
    "        print('n=',i,'\\nCoherence Score: ', coherence_lda)\n",
    "        coherence_score.append(coherence_lda)\n",
    "\n",
    "#     k=[]\n",
    "#     for i in range(2,10):\n",
    "#         k.append(i)\n",
    "\n",
    "#     x=numpy.array(k)\n",
    "#     y=numpy.array(coherence_score)\n",
    "#     title = f'{keyword} Topic Coherence'\n",
    "#     plt.title(title)\n",
    "#     plt.plot(x,y)\n",
    "#     plt.xlim(2,10)\n",
    "#     plt.xlabel('Number Of Topic (2-10)')\n",
    "#     plt.ylabel('Cohrence Score')\n",
    "#     plt.show()\n",
    "\n",
    "    model = gensim.models.ldamodel.LdaModel(corpus=corpus, id2word=id2word, num_topics=3)\n",
    "    # model.print_topics()\n",
    "    model.print_topics(num_words=500) # num_topics=20\n",
    "\n",
    "    _topics = getTopics(model)\n",
    "    #_topics\n",
    "\n",
    "    #type(_topics)\n",
    "\n",
    "    co_top_df = pd.DataFrame(_topics)\n",
    "\n",
    "    co_top_df.set_index(0)\n",
    "\n",
    "    save_to_csv(\"TM\", keyword, \"토픽\", co_top_df)"
   ]
  },
  {
   "cell_type": "code",
   "execution_count": null,
   "metadata": {},
   "outputs": [],
   "source": []
  }
 ],
 "metadata": {
  "kernelspec": {
   "display_name": "Python 3",
   "language": "python",
   "name": "python3"
  },
  "language_info": {
   "codemirror_mode": {
    "name": "ipython",
    "version": 3
   },
   "file_extension": ".py",
   "mimetype": "text/x-python",
   "name": "python",
   "nbconvert_exporter": "python",
   "pygments_lexer": "ipython3",
   "version": "3.8.5"
  }
 },
 "nbformat": 4,
 "nbformat_minor": 2
}
